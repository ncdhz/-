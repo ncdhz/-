{
 "cells": [
  {
   "cell_type": "code",
   "execution_count": 1,
   "metadata": {},
   "outputs": [],
   "source": [
    "import tensorflow as tf\n",
    "import numpy as np"
   ]
  },
  {
   "cell_type": "code",
   "execution_count": 2,
   "metadata": {},
   "outputs": [
    {
     "data": {
      "text/plain": [
       "<tf.Tensor: shape=(2, 3), dtype=float64, numpy=\n",
       "array([[1., 1., 1.],\n",
       "       [1., 1., 1.]])>"
      ]
     },
     "execution_count": 2,
     "metadata": {},
     "output_type": "execute_result"
    }
   ],
   "source": [
    "# 通过 numpy 或 list 转换为 tensor\n",
    "tf.convert_to_tensor(np.ones([2, 3]))"
   ]
  },
  {
   "cell_type": "code",
   "execution_count": 3,
   "metadata": {},
   "outputs": [
    {
     "data": {
      "text/plain": [
       "<tf.Tensor: shape=(2, 3), dtype=float64, numpy=\n",
       "array([[0., 0., 0.],\n",
       "       [0., 0., 0.]])>"
      ]
     },
     "execution_count": 3,
     "metadata": {},
     "output_type": "execute_result"
    }
   ],
   "source": [
    "tf.convert_to_tensor(np.zeros([2, 3]))"
   ]
  },
  {
   "cell_type": "code",
   "execution_count": 4,
   "metadata": {},
   "outputs": [
    {
     "data": {
      "text/plain": [
       "<tf.Tensor: shape=(2,), dtype=int32, numpy=array([1, 2], dtype=int32)>"
      ]
     },
     "execution_count": 4,
     "metadata": {},
     "output_type": "execute_result"
    }
   ],
   "source": [
    "tf.convert_to_tensor([1, 2])"
   ]
  },
  {
   "cell_type": "code",
   "execution_count": 5,
   "metadata": {},
   "outputs": [
    {
     "data": {
      "text/plain": [
       "<tf.Tensor: shape=(2,), dtype=float32, numpy=array([1., 2.], dtype=float32)>"
      ]
     },
     "execution_count": 5,
     "metadata": {},
     "output_type": "execute_result"
    }
   ],
   "source": [
    "tf.convert_to_tensor([1, 2.])"
   ]
  },
  {
   "cell_type": "code",
   "execution_count": 6,
   "metadata": {},
   "outputs": [
    {
     "data": {
      "text/plain": [
       "<tf.Tensor: shape=(2, 1), dtype=float32, numpy=\n",
       "array([[1.],\n",
       "       [2.]], dtype=float32)>"
      ]
     },
     "execution_count": 6,
     "metadata": {},
     "output_type": "execute_result"
    }
   ],
   "source": [
    "tf.convert_to_tensor([[1], [2.]]) # 数据不一致会自动转换为存储空间大的类型"
   ]
  },
  {
   "cell_type": "code",
   "execution_count": 7,
   "metadata": {},
   "outputs": [
    {
     "name": "stdout",
     "output_type": "stream",
     "text": [
      "tf.Tensor(0.0, shape=(), dtype=float32)\n",
      "tf.Tensor([0.], shape=(1,), dtype=float32)\n",
      "tf.Tensor([[0. 0.]], shape=(1, 2), dtype=float32)\n",
      "tf.Tensor(\n",
      "[[[0. 0. 0.]\n",
      "  [0. 0. 0.]]], shape=(1, 2, 3), dtype=float32)\n",
      "tf.Tensor([0.], shape=(1,), dtype=float32)\n"
     ]
    }
   ],
   "source": [
    "# tf.zeros\n",
    "print(tf.zeros([])) # 标量为 0 没有维度\n",
    "print(tf.zeros([1]))\n",
    "print(tf.zeros([1, 2]))\n",
    "print(tf.zeros([1, 2, 3]))\n",
    "print(tf.zeros([1]))"
   ]
  },
  {
   "cell_type": "code",
   "execution_count": 8,
   "metadata": {},
   "outputs": [
    {
     "name": "stdout",
     "output_type": "stream",
     "text": [
      "tf.Tensor(\n",
      "[[[0. 0. 0.]\n",
      "  [0. 0. 0.]\n",
      "  [0. 0. 0.]]\n",
      "\n",
      " [[0. 0. 0.]\n",
      "  [0. 0. 0.]\n",
      "  [0. 0. 0.]]], shape=(2, 3, 3), dtype=float32)\n",
      "tf.Tensor(\n",
      "[[[0. 0. 0.]\n",
      "  [0. 0. 0.]\n",
      "  [0. 0. 0.]]\n",
      "\n",
      " [[0. 0. 0.]\n",
      "  [0. 0. 0.]\n",
      "  [0. 0. 0.]]], shape=(2, 3, 3), dtype=float32)\n"
     ]
    }
   ],
   "source": [
    "a = tf.zeros([2, 3, 3])\n",
    "# 一下两个语句生成数据相同\n",
    "print(tf.zeros_like(a))\n",
    "print(tf.zeros(a.shape))"
   ]
  },
  {
   "cell_type": "code",
   "execution_count": 9,
   "metadata": {},
   "outputs": [
    {
     "name": "stdout",
     "output_type": "stream",
     "text": [
      "tf.Tensor([1.], shape=(1,), dtype=float32)\n",
      "tf.Tensor(1.0, shape=(), dtype=float32)\n",
      "tf.Tensor(\n",
      "[[1. 1. 1.]\n",
      " [1. 1. 1.]], shape=(2, 3), dtype=float32)\n",
      "tf.Tensor(\n",
      "[[[1. 1. 1.]\n",
      "  [1. 1. 1.]\n",
      "  [1. 1. 1.]]\n",
      "\n",
      " [[1. 1. 1.]\n",
      "  [1. 1. 1.]\n",
      "  [1. 1. 1.]]], shape=(2, 3, 3), dtype=float32)\n",
      "tf.Tensor(\n",
      "[[[1. 1. 1.]\n",
      "  [1. 1. 1.]\n",
      "  [1. 1. 1.]]\n",
      "\n",
      " [[1. 1. 1.]\n",
      "  [1. 1. 1.]\n",
      "  [1. 1. 1.]]], shape=(2, 3, 3), dtype=float32)\n"
     ]
    }
   ],
   "source": [
    "# tf.ones\n",
    "print(tf.ones(1))\n",
    "print(tf.ones([]))\n",
    "print(tf.ones([2, 3]))\n",
    "a = tf.ones([2, 3, 3])\n",
    "# 一下两个语句生成数据相同\n",
    "print(tf.ones_like(a))\n",
    "print(tf.ones(a.shape))"
   ]
  },
  {
   "cell_type": "code",
   "execution_count": 10,
   "metadata": {},
   "outputs": [
    {
     "name": "stdout",
     "output_type": "stream",
     "text": [
      "tf.Tensor(\n",
      "[[0 0]\n",
      " [0 0]], shape=(2, 2), dtype=int32)\n",
      "tf.Tensor(\n",
      "[[0. 0.]\n",
      " [0. 0.]], shape=(2, 2), dtype=float32)\n",
      "tf.Tensor(\n",
      "[[1 1]\n",
      " [1 1]], shape=(2, 2), dtype=int32)\n",
      "tf.Tensor(\n",
      "[[9 9]\n",
      " [9 9]], shape=(2, 2), dtype=int32)\n"
     ]
    }
   ],
   "source": [
    "# tf.fill 第一个参数是一个 shape 第二个参数是生成数据\n",
    "print(tf.fill([2, 2], 0))\n",
    "print(tf.fill([2, 2], 0.))\n",
    "print(tf.fill([2, 2], 1))\n",
    "print(tf.fill([2, 2], 9))"
   ]
  },
  {
   "cell_type": "code",
   "execution_count": 11,
   "metadata": {},
   "outputs": [
    {
     "data": {
      "text/plain": [
       "<tf.Tensor: shape=(2, 2), dtype=float32, numpy=\n",
       "array([[-0.3679998 ,  0.5780983 ],\n",
       "       [ 0.52301157,  2.0574553 ]], dtype=float32)>"
      ]
     },
     "execution_count": 11,
     "metadata": {},
     "output_type": "execute_result"
    }
   ],
   "source": [
    "# tf.random 随机初始化\n",
    "# tf.random.normal 正态分布\n",
    "tf.random.normal([2, 2], mean=1, stddev=1) # mean 均值 stddev 方差 正态分布初始化（虽然是随机初始化但是初始化数据服从正态分布）"
   ]
  },
  {
   "cell_type": "code",
   "execution_count": 12,
   "metadata": {},
   "outputs": [
    {
     "data": {
      "text/plain": [
       "<tf.Tensor: shape=(2, 2), dtype=float32, numpy=\n",
       "array([[ 0.8364406 ,  0.5968722 ],\n",
       "       [ 0.27776608, -1.223464  ]], dtype=float32)>"
      ]
     },
     "execution_count": 12,
     "metadata": {},
     "output_type": "execute_result"
    }
   ],
   "source": [
    "tf.random.normal([2, 2]) # 默认是 0，1 分布"
   ]
  },
  {
   "cell_type": "code",
   "execution_count": 13,
   "metadata": {},
   "outputs": [
    {
     "data": {
      "text/plain": [
       "<tf.Tensor: shape=(2, 2), dtype=float32, numpy=\n",
       "array([[ 0.31324774,  1.9299513 ],\n",
       "       [ 0.48700115, -0.16823606]], dtype=float32)>"
      ]
     },
     "execution_count": 13,
     "metadata": {},
     "output_type": "execute_result"
    }
   ],
   "source": [
    "tf.random.truncated_normal([2, 2]) # 正态分布初始化但是会截去一部分\n",
    "# 如果你了解 sigmoid 函数你就会发现这个函数的图像超过某个特定值后求导其倒数接近于 0 这样就可能导致梯度下降的速度非常缓慢\n",
    "# 所以就需要截去一部分"
   ]
  },
  {
   "cell_type": "code",
   "execution_count": 14,
   "metadata": {},
   "outputs": [
    {
     "data": {
      "text/plain": [
       "<tf.Tensor: shape=(2, 2), dtype=float32, numpy=\n",
       "array([[0.08510041, 0.4069749 ],\n",
       "       [0.11524642, 0.17979681]], dtype=float32)>"
      ]
     },
     "execution_count": 14,
     "metadata": {},
     "output_type": "execute_result"
    }
   ],
   "source": [
    "# tf.random.uniform 均匀分布\n",
    "tf.random.uniform([2, 2], minval=0, maxval=1)"
   ]
  },
  {
   "cell_type": "code",
   "execution_count": 15,
   "metadata": {},
   "outputs": [
    {
     "data": {
      "text/plain": [
       "<tf.Tensor: shape=(2, 2), dtype=float32, numpy=\n",
       "array([[92.396805, 76.74985 ],\n",
       "       [65.05815 , 88.30634 ]], dtype=float32)>"
      ]
     },
     "execution_count": 15,
     "metadata": {},
     "output_type": "execute_result"
    }
   ],
   "source": [
    "tf.random.uniform([2, 2], minval=0, maxval=100)"
   ]
  },
  {
   "cell_type": "code",
   "execution_count": 16,
   "metadata": {},
   "outputs": [
    {
     "name": "stdout",
     "output_type": "stream",
     "text": [
      "tf.Tensor([3 5 7 8 1 2 4 9 0 6], shape=(10,), dtype=int32)\n",
      "tf.Tensor(\n",
      "[[ 0.8618773  -0.19166827]\n",
      " [ 0.8756172  -1.6987313 ]\n",
      " [ 1.5433981   2.5783927 ]\n",
      " [ 0.9826116   1.4398059 ]\n",
      " [-1.4711508   1.7537258 ]\n",
      " [-0.4527294   0.5957894 ]\n",
      " [-0.38101038  1.1836839 ]\n",
      " [ 1.665944   -0.39071426]\n",
      " [ 0.21543248 -1.3069894 ]\n",
      " [ 1.6591469   1.1265639 ]], shape=(10, 2), dtype=float32)\n",
      "tf.Tensor([4 3 7 4 1 8 0 0 8 0], shape=(10,), dtype=int32)\n",
      "tf.Tensor(\n",
      "[[ 0.9826116   1.4398059 ]\n",
      " [-0.4527294   0.5957894 ]\n",
      " [ 1.665944   -0.39071426]\n",
      " [ 0.21543248 -1.3069894 ]\n",
      " [ 0.8756172  -1.6987313 ]\n",
      " [ 1.5433981   2.5783927 ]\n",
      " [-1.4711508   1.7537258 ]\n",
      " [ 1.6591469   1.1265639 ]\n",
      " [ 0.8618773  -0.19166827]\n",
      " [-0.38101038  1.1836839 ]], shape=(10, 2), dtype=float32)\n",
      "tf.Tensor([4 8 0 8 3 7 1 0 4 0], shape=(10,), dtype=int32)\n"
     ]
    }
   ],
   "source": [
    "# Random Permutation\n",
    "'''\n",
    "解释 Random Permutation\n",
    "这是原始数据\n",
    "[0, 1, 2]\n",
    "这是打散后的数据\n",
    "[2, 1, 0] （1）\n",
    "\n",
    "# 这是第二批原始数据\n",
    "[7, 6, 3]\n",
    "# 在（1）的作用下上面数据就会被打散成和（1）打散位置一样的数据比如 0 -> 最后位置\n",
    "                                                         7 -> 最后位置\n",
    "[3, 6, 7]\n",
    "'''\n",
    "idx = tf.range(10)\n",
    "# 打散\n",
    "idx = tf.random.shuffle(idx)\n",
    "print(idx)\n",
    "a = tf.random.normal([10, 2])\n",
    "b = tf.random.uniform([10], maxval=10, dtype=tf.int32)\n",
    "print(a)\n",
    "print(b)\n",
    "a = tf.gather(a, idx)\n",
    "b = tf.gather(b, idx)\n",
    "print(a)\n",
    "print(b)"
   ]
  },
  {
   "cell_type": "code",
   "execution_count": 17,
   "metadata": {},
   "outputs": [
    {
     "name": "stdout",
     "output_type": "stream",
     "text": [
      "tf.Tensor(1, shape=(), dtype=int32)\n",
      "tf.Tensor([1], shape=(1,), dtype=int32)\n",
      "tf.Tensor([1. 2.], shape=(2,), dtype=float32)\n"
     ]
    }
   ],
   "source": [
    "# tf.constant\n",
    "print(tf.constant(1))\n",
    "print(tf.constant([1]))\n",
    "print(tf.constant([1, 2.]))\n",
    "# print(tf.constant([1, 2.], [3.])) 维度必须统一不然就会报错"
   ]
  },
  {
   "cell_type": "code",
   "execution_count": 19,
   "metadata": {},
   "outputs": [
    {
     "name": "stdout",
     "output_type": "stream",
     "text": [
      "tf.Tensor([0.48116523 0.16928735 0.37546784 0.3427232 ], shape=(4,), dtype=float32)\n",
      "tf.Tensor(0.34216088, shape=(), dtype=float32)\n"
     ]
    }
   ],
   "source": [
    "# loss\n",
    "out = tf.random.uniform([4, 10]) # 4 行 10 列\n",
    "y = tf.range(4)\n",
    "y = tf.one_hot(y, depth=10)\n",
    "loss = tf.keras.losses.mse(y, out)\n",
    "print(loss)\n",
    "loss = tf.reduce_mean(loss)\n",
    "print(loss)"
   ]
  },
  {
   "cell_type": "code",
   "execution_count": 26,
   "metadata": {},
   "outputs": [
    {
     "data": {
      "text/plain": [
       "<tf.Variable 'kernel:0' shape=(8, 10) dtype=float32, numpy=\n",
       "array([[-3.36569697e-01,  8.42129588e-02,  5.34676075e-01,\n",
       "         2.12073565e-01,  3.07044387e-02, -3.21870238e-01,\n",
       "        -2.46643931e-01,  1.28141403e-01, -1.48624152e-01,\n",
       "        -8.05796683e-02],\n",
       "       [-4.72958744e-01,  3.01041424e-01, -1.75191343e-01,\n",
       "        -4.66376543e-01, -4.83682305e-01, -3.30817521e-01,\n",
       "         3.24930906e-01,  3.85928631e-01,  1.04414344e-01,\n",
       "         8.18460584e-02],\n",
       "       [ 2.87821412e-01,  9.88650322e-03, -5.39253294e-01,\n",
       "         4.50507164e-01,  2.56847739e-01, -2.38685101e-01,\n",
       "        -6.76333904e-03, -4.68426585e-01,  6.27140999e-02,\n",
       "         2.89607048e-02],\n",
       "       [ 4.77503896e-01,  1.44028664e-01, -2.51032263e-01,\n",
       "         3.18959057e-01, -3.81487846e-01, -3.77306432e-01,\n",
       "        -8.73368979e-03, -1.92631602e-01, -3.82272065e-01,\n",
       "        -2.21477479e-01],\n",
       "       [ 3.96195054e-01,  4.08267856e-01,  9.77048278e-02,\n",
       "         3.37815583e-01, -1.07337236e-02,  9.92764235e-02,\n",
       "        -5.62712193e-01, -5.00692129e-02,  1.93639457e-01,\n",
       "         5.39137721e-02],\n",
       "       [ 1.05565786e-01, -2.52672076e-01, -2.06649840e-01,\n",
       "        -5.05397439e-01, -2.36125618e-01, -1.84023380e-03,\n",
       "         2.61188149e-01,  3.01650643e-01,  5.37337899e-01,\n",
       "         3.80456448e-04],\n",
       "       [-3.57673109e-01, -3.49813402e-01, -1.85931027e-01,\n",
       "         5.08831620e-01, -6.23476505e-03, -5.38780153e-01,\n",
       "         9.46203470e-02,  7.46945143e-02,  3.99831355e-01,\n",
       "         6.85582161e-02],\n",
       "       [ 1.00385308e-01,  1.23024106e-01,  2.75661051e-01,\n",
       "        -5.22115290e-01, -3.65927637e-01, -9.78314877e-02,\n",
       "         2.78596461e-01, -2.09089696e-01,  2.44706929e-01,\n",
       "        -1.58879995e-01]], dtype=float32)>"
      ]
     },
     "execution_count": 26,
     "metadata": {},
     "output_type": "execute_result"
    }
   ],
   "source": [
    "# vector\n",
    "import tensorflow.keras.layers as layers \n",
    "net = layers.Dense(10)\n",
    "net.build((4, 8))\n",
    "net.kernel"
   ]
  },
  {
   "cell_type": "code",
   "execution_count": 27,
   "metadata": {},
   "outputs": [
    {
     "data": {
      "text/plain": [
       "<tf.Variable 'bias:0' shape=(10,) dtype=float32, numpy=array([0., 0., 0., 0., 0., 0., 0., 0., 0., 0.], dtype=float32)>"
      ]
     },
     "execution_count": 27,
     "metadata": {},
     "output_type": "execute_result"
    }
   ],
   "source": [
    "net.bias # b"
   ]
  },
  {
   "cell_type": "code",
   "execution_count": 31,
   "metadata": {},
   "outputs": [
    {
     "data": {
      "text/plain": [
       "TensorShape([4, 10])"
      ]
     },
     "execution_count": 31,
     "metadata": {},
     "output_type": "execute_result"
    }
   ],
   "source": [
    "# matrix\n",
    "x = tf.random.normal([4, 784])\n",
    "net = layers.Dense(10)\n",
    "net.build((4, 784))\n",
    "net(x).shape"
   ]
  },
  {
   "cell_type": "code",
   "execution_count": 32,
   "metadata": {},
   "outputs": [
    {
     "name": "stdout",
     "output_type": "stream",
     "text": [
      "(784, 10)\n",
      "(10,)\n"
     ]
    }
   ],
   "source": [
    "print(net.kernel.shape)\n",
    "print(net.bias.shape)"
   ]
  }
 ],
 "metadata": {
  "kernelspec": {
   "display_name": "Python 3",
   "language": "python",
   "name": "python3"
  },
  "language_info": {
   "codemirror_mode": {
    "name": "ipython",
    "version": 3
   },
   "file_extension": ".py",
   "mimetype": "text/x-python",
   "name": "python",
   "nbconvert_exporter": "python",
   "pygments_lexer": "ipython3",
   "version": "3.7.7"
  }
 },
 "nbformat": 4,
 "nbformat_minor": 4
}
