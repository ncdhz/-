{
 "cells": [
  {
   "cell_type": "code",
   "execution_count": 1,
   "metadata": {},
   "outputs": [],
   "source": [
    "import tensorflow as tf"
   ]
  },
  {
   "cell_type": "markdown",
   "metadata": {},
   "source": [
    "$$\n",
    "Eukl Norm ||x|| = [\\sum_{k}{x^2_k}]^{1/2} \\\\\n",
    "Max Norm ||x|| = maxx_k|x_k| \\\\\n",
    "L_1 Norm ||x|| = \\sum_{K}{|x_k|}\n",
    "$$"
   ]
  },
  {
   "cell_type": "code",
   "execution_count": 2,
   "metadata": {},
   "outputs": [
    {
     "name": "stdout",
     "output_type": "stream",
     "text": [
      "tf.Tensor(2.0, shape=(), dtype=float32)\n"
     ]
    }
   ],
   "source": [
    "# Vertor Norm\n",
    "# 二范数平方和开根号\n",
    "a = tf.ones([2, 2])\n",
    "print(tf.norm(a))"
   ]
  },
  {
   "cell_type": "code",
   "execution_count": 3,
   "metadata": {},
   "outputs": [
    {
     "name": "stdout",
     "output_type": "stream",
     "text": [
      "tf.Tensor([1.4142135 1.4142135], shape=(2,), dtype=float32)\n",
      "tf.Tensor([2. 2.], shape=(2,), dtype=float32)\n",
      "tf.Tensor([2. 2.], shape=(2,), dtype=float32)\n"
     ]
    }
   ],
   "source": [
    "b = tf.ones([2, 2])\n",
    "# 一维度的二范数\n",
    "print(tf.norm(b, ord=2, axis=1))\n",
    "# 零维度的一范数\n",
    "print(tf.norm(b, ord=1, axis=0))\n",
    "# 一维度的一范数\n",
    "print(tf.norm(b, ord=1, axis=1))"
   ]
  },
  {
   "cell_type": "code",
   "execution_count": 4,
   "metadata": {},
   "outputs": [
    {
     "data": {
      "text/plain": [
       "(<tf.Tensor: shape=(), dtype=float32, numpy=-2.6196685>,\n",
       " <tf.Tensor: shape=(), dtype=float32, numpy=1.8081744>,\n",
       " <tf.Tensor: shape=(), dtype=float32, numpy=0.08514073>)"
      ]
     },
     "execution_count": 4,
     "metadata": {},
     "output_type": "execute_result"
    }
   ],
   "source": [
    "# reduce_min/max/mean\n",
    "a = tf.random.normal([4, 10])\n",
    "tf.reduce_min(a),tf.reduce_max(a),tf.reduce_mean(a)"
   ]
  },
  {
   "cell_type": "code",
   "execution_count": 5,
   "metadata": {},
   "outputs": [
    {
     "data": {
      "text/plain": [
       "(<tf.Tensor: shape=(4,), dtype=float32, numpy=array([-2.6196685 , -1.6165125 , -1.3018146 , -0.65737146], dtype=float32)>,\n",
       " <tf.Tensor: shape=(4,), dtype=float32, numpy=array([0.53919554, 1.8081744 , 1.3424035 , 1.6555741 ], dtype=float32)>,\n",
       " <tf.Tensor: shape=(4,), dtype=float32, numpy=array([-0.41611257,  0.1153239 ,  0.32395333,  0.31739816], dtype=float32)>)"
      ]
     },
     "execution_count": 5,
     "metadata": {},
     "output_type": "execute_result"
    }
   ],
   "source": [
    "# 在一维度求min max mean\n",
    "tf.reduce_min(a, axis=1),tf.reduce_max(a, axis=1),tf.reduce_mean(a, axis=1)"
   ]
  },
  {
   "cell_type": "code",
   "execution_count": 9,
   "metadata": {},
   "outputs": [
    {
     "name": "stdout",
     "output_type": "stream",
     "text": [
      "tf.Tensor(\n",
      "[[ 0.21079707  0.08535914]\n",
      " [-1.5163007  -0.8349133 ]\n",
      " [ 0.09391207 -0.66254884]\n",
      " [-0.3262033   0.60264426]], shape=(4, 2), dtype=float32)\n",
      "tf.Tensor([0 3], shape=(2,), dtype=int64)\n",
      "tf.Tensor([1 1], shape=(2,), dtype=int64)\n",
      "tf.Tensor([0 1 0 1], shape=(4,), dtype=int64)\n"
     ]
    }
   ],
   "source": [
    "# argmax/argmin 返回最大值或最小值的位置\n",
    "a = tf.random.normal([4, 2])\n",
    "print(a)\n",
    "print(tf.argmax(a))\n",
    "print(tf.argmin(a))\n",
    "print(tf.argmax(a, axis=1))"
   ]
  },
  {
   "cell_type": "code",
   "execution_count": 12,
   "metadata": {},
   "outputs": [],
   "source": [
    "# equal\n",
    "a = tf.constant([1, 2, 3, 4, 4])\n",
    "b = tf.range(5)\n",
    "ref = tf.equal(a, b)\n",
    "print(ref)"
   ]
  },
  {
   "cell_type": "code",
   "execution_count": 14,
   "metadata": {},
   "outputs": [
    {
     "data": {
      "text/plain": [
       "<tf.Tensor: shape=(), dtype=int32, numpy=1>"
      ]
     },
     "execution_count": 14,
     "metadata": {},
     "output_type": "execute_result"
    }
   ],
   "source": [
    "# tf.cast 转换类型 tf.reduce_sum 累加（这条语句可以统计上面 equal 中匹配数）\n",
    "tf.reduce_sum(tf.cast(ref, dtype=tf.int32))"
   ]
  },
  {
   "cell_type": "code",
   "execution_count": 17,
   "metadata": {},
   "outputs": [
    {
     "name": "stdout",
     "output_type": "stream",
     "text": [
      "Unique(y=<tf.Tensor: shape=(3,), dtype=int32, numpy=array([4, 2, 3], dtype=int32)>, idx=<tf.Tensor: shape=(5,), dtype=int32, numpy=array([0, 1, 1, 0, 2], dtype=int32)>)\n"
     ]
    }
   ],
   "source": [
    "# unique 去除重复元素\n",
    "a = tf.constant([4, 2, 2, 4, 3])\n",
    "ref = tf.unique(a) # [4, 2, 3] 去除重复之后的结果 [0, 1, 1, 0, 2] 可以通过这张表还原以前的数据对应的是新生成表的索引\n",
    "print(ref)"
   ]
  },
  {
   "cell_type": "code",
   "execution_count": 21,
   "metadata": {},
   "outputs": [
    {
     "data": {
      "text/plain": [
       "<tf.Tensor: shape=(5,), dtype=int32, numpy=array([4, 2, 2, 4, 3], dtype=int32)>"
      ]
     },
     "execution_count": 21,
     "metadata": {},
     "output_type": "execute_result"
    }
   ],
   "source": [
    "tf.gather(ref[0], ref[1]) # 还原"
   ]
  },
  {
   "cell_type": "code",
   "execution_count": null,
   "metadata": {},
   "outputs": [],
   "source": []
  }
 ],
 "metadata": {
  "kernelspec": {
   "display_name": "Python 3",
   "language": "python",
   "name": "python3"
  },
  "language_info": {
   "codemirror_mode": {
    "name": "ipython",
    "version": 3
   },
   "file_extension": ".py",
   "mimetype": "text/x-python",
   "name": "python",
   "nbconvert_exporter": "python",
   "pygments_lexer": "ipython3",
   "version": "3.7.7"
  }
 },
 "nbformat": 4,
 "nbformat_minor": 4
}
