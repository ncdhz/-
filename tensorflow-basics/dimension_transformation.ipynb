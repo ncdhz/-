{
 "cells": [
  {
   "cell_type": "code",
   "execution_count": 1,
   "metadata": {},
   "outputs": [],
   "source": [
    "import tensorflow as tf"
   ]
  },
  {
   "cell_type": "code",
   "execution_count": 6,
   "metadata": {},
   "outputs": [
    {
     "name": "stdout",
     "output_type": "stream",
     "text": [
      "(4, 784, 3)\n",
      "(4, 784, 3)\n",
      "(4, 2352)\n",
      "(4, 2352)\n"
     ]
    }
   ],
   "source": [
    "a = tf.random.normal([4, 28, 28, 3]) # 假设这是 4 张图片 宽为 28 个像素 高为 28 个像素 像素通道为3\n",
    "print(tf.reshape(a, [4, 28 * 28, 3]).shape) # 这个函数可以理解成改变维度但是没有改变数据总数，这行的意思就是把 每张图片压缩成一行\n",
    "print(tf.reshape(a, [4, -1, 3]).shape) # -1 是 28 * 28 简写\n",
    "print(tf.reshape(a, [4, 28 * 28 *3]).shape) \n",
    "print(tf.reshape(a, [4, -1]).shape)"
   ]
  },
  {
   "cell_type": "code",
   "execution_count": 11,
   "metadata": {},
   "outputs": [
    {
     "name": "stdout",
     "output_type": "stream",
     "text": [
      "(4, 3, 2, 1)\n",
      "(1, 2, 3, 4)\n",
      "(4, 3, 1, 2)\n"
     ]
    }
   ],
   "source": [
    "# tf.transpose 转置\n",
    "a = tf.random.normal((4 ,3, 2, 1))\n",
    "print(a.shape)\n",
    "print(tf.transpose(a).shape) # 全转置\n",
    "print(tf.transpose(a, perm=[0, 1, 3, 2]).shape) # 转置第三和第四维度"
   ]
  },
  {
   "cell_type": "code",
   "execution_count": 13,
   "metadata": {},
   "outputs": [
    {
     "name": "stdout",
     "output_type": "stream",
     "text": [
      "(4, 35, 8)\n",
      "(1, 4, 35, 8)\n",
      "(4, 1, 35, 8)\n",
      "(4, 35, 1, 8)\n",
      "(4, 35, 8, 1)\n",
      "(4, 35, 8, 1)\n",
      "(4, 35, 1, 8)\n",
      "(4, 1, 35, 8)\n",
      "(1, 4, 35, 8)\n"
     ]
    }
   ],
   "source": [
    "# expand dim 增加维度\n",
    "a = tf.random.normal([4, 35, 8])\n",
    "print(a.shape)\n",
    "print(tf.expand_dims(a, axis=0).shape) # 正数是当前维度前面\n",
    "print(tf.expand_dims(a, axis=1).shape)\n",
    "print(tf.expand_dims(a, axis=2).shape)\n",
    "print(tf.expand_dims(a, axis=3).shape)\n",
    "print(tf.expand_dims(a, axis=-1).shape) # 负数是当前维度的后面\n",
    "print(tf.expand_dims(a, axis=-2).shape)\n",
    "print(tf.expand_dims(a, axis=-3).shape)\n",
    "print(tf.expand_dims(a, axis=-4).shape)"
   ]
  },
  {
   "cell_type": "code",
   "execution_count": 18,
   "metadata": {},
   "outputs": [
    {
     "name": "stdout",
     "output_type": "stream",
     "text": [
      "(1, 2, 3)\n",
      "(2, 3)\n",
      "(2, 1, 1, 3)\n",
      "(1, 2, 1, 3)\n",
      "(1, 2, 1, 3)\n",
      "(1, 2, 1, 3)\n"
     ]
    }
   ],
   "source": [
    "# squeeze dim 减少维度\n",
    "a = tf.random.normal([1, 2, 1, 1, 3])\n",
    "print(tf.squeeze(a, [2, 3]).shape) # 删除3维度和4维度\n",
    "print(tf.squeeze(a).shape) # 删除所有的’1‘维度\n",
    "print(tf.squeeze(a, axis=0).shape)\n",
    "print(tf.squeeze(a, axis=2).shape)\n",
    "print(tf.squeeze(a, axis=-2).shape)\n",
    "print(tf.squeeze(a, axis=-3).shape)"
   ]
  },
  {
   "cell_type": "code",
   "execution_count": null,
   "metadata": {},
   "outputs": [],
   "source": []
  }
 ],
 "metadata": {
  "kernelspec": {
   "display_name": "Python 3",
   "language": "python",
   "name": "python3"
  },
  "language_info": {
   "codemirror_mode": {
    "name": "ipython",
    "version": 3
   },
   "file_extension": ".py",
   "mimetype": "text/x-python",
   "name": "python",
   "nbconvert_exporter": "python",
   "pygments_lexer": "ipython3",
   "version": "3.7.7"
  }
 },
 "nbformat": 4,
 "nbformat_minor": 4
}
