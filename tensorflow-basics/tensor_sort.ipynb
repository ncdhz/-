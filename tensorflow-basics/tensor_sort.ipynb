{
 "cells": [
  {
   "cell_type": "code",
   "execution_count": 1,
   "metadata": {},
   "outputs": [],
   "source": [
    "import tensorflow as tf"
   ]
  },
  {
   "cell_type": "code",
   "execution_count": 2,
   "metadata": {},
   "outputs": [
    {
     "name": "stdout",
     "output_type": "stream",
     "text": [
      "tf.Tensor([1 0 2 3 4], shape=(5,), dtype=int32)\n"
     ]
    }
   ],
   "source": [
    "a = tf.random.shuffle(tf.range(5)) # 打乱 0 - 5\n",
    "print(a)"
   ]
  },
  {
   "cell_type": "code",
   "execution_count": 3,
   "metadata": {},
   "outputs": [
    {
     "data": {
      "text/plain": [
       "<tf.Tensor: shape=(5,), dtype=int32, numpy=array([4, 3, 2, 1, 0], dtype=int32)>"
      ]
     },
     "execution_count": 3,
     "metadata": {},
     "output_type": "execute_result"
    }
   ],
   "source": [
    "tf.sort(a, direction='DESCENDING') # 降序排列"
   ]
  },
  {
   "cell_type": "code",
   "execution_count": 5,
   "metadata": {},
   "outputs": [
    {
     "data": {
      "text/plain": [
       "<tf.Tensor: shape=(5,), dtype=int32, numpy=array([4, 3, 2, 0, 1], dtype=int32)>"
      ]
     },
     "execution_count": 5,
     "metadata": {},
     "output_type": "execute_result"
    }
   ],
   "source": [
    "tf.argsort(a, direction='DESCENDING') # 序号降序排列"
   ]
  },
  {
   "cell_type": "code",
   "execution_count": 7,
   "metadata": {},
   "outputs": [],
   "source": [
    "idx = tf.argsort(a, direction='DESCENDING')"
   ]
  },
  {
   "cell_type": "code",
   "execution_count": 8,
   "metadata": {},
   "outputs": [
    {
     "data": {
      "text/plain": [
       "<tf.Tensor: shape=(5,), dtype=int32, numpy=array([4, 3, 2, 1, 0], dtype=int32)>"
      ]
     },
     "execution_count": 8,
     "metadata": {},
     "output_type": "execute_result"
    }
   ],
   "source": [
    "tf.gather(a, idx)"
   ]
  },
  {
   "cell_type": "code",
   "execution_count": 9,
   "metadata": {},
   "outputs": [
    {
     "name": "stdout",
     "output_type": "stream",
     "text": [
      "tf.Tensor(\n",
      "[[2 8 2]\n",
      " [8 4 1]\n",
      " [3 3 7]], shape=(3, 3), dtype=int32)\n",
      "tf.Tensor(\n",
      "[[2 2 8]\n",
      " [1 4 8]\n",
      " [3 3 7]], shape=(3, 3), dtype=int32)\n",
      "tf.Tensor(\n",
      "[[8 2 2]\n",
      " [8 4 1]\n",
      " [7 3 3]], shape=(3, 3), dtype=int32)\n",
      "tf.Tensor(\n",
      "[[0 2 1]\n",
      " [2 1 0]\n",
      " [0 1 2]], shape=(3, 3), dtype=int32)\n"
     ]
    }
   ],
   "source": [
    "a = tf.random.uniform([3, 3], maxval=10, dtype=tf.int32)\n",
    "print(a)\n",
    "print(tf.sort(a))\n",
    "print(tf.sort(a, direction='DESCENDING'))\n",
    "print(tf.argsort(a))"
   ]
  },
  {
   "cell_type": "code",
   "execution_count": 10,
   "metadata": {},
   "outputs": [
    {
     "name": "stdout",
     "output_type": "stream",
     "text": [
      "tf.Tensor(\n",
      "[[1 0]\n",
      " [0 1]\n",
      " [2 0]], shape=(3, 2), dtype=int32)\n",
      "tf.Tensor(\n",
      "[[8 2]\n",
      " [8 4]\n",
      " [7 3]], shape=(3, 2), dtype=int32)\n"
     ]
    }
   ],
   "source": [
    "# top_k\n",
    "res = tf.math.top_k(a, 2) # 返回最大的前两个值\n",
    "print(res.indices)\n",
    "print(res.values)"
   ]
  },
  {
   "cell_type": "code",
   "execution_count": 18,
   "metadata": {},
   "outputs": [
    {
     "name": "stdout",
     "output_type": "stream",
     "text": [
      "tf.Tensor(\n",
      "[[2 1 0]\n",
      " [1 0 2]], shape=(2, 3), dtype=int32)\n",
      "tf.Tensor(\n",
      "[[2 1]\n",
      " [1 0]\n",
      " [0 2]], shape=(3, 2), dtype=int32)\n",
      "tf.Tensor(\n",
      "[[2 0]\n",
      " [2 0]\n",
      " [2 0]], shape=(3, 2), dtype=int32)\n"
     ]
    },
    {
     "data": {
      "text/plain": [
       "<tf.Tensor: shape=(3, 2), dtype=bool, numpy=\n",
       "array([[ True, False],\n",
       "       [False,  True],\n",
       "       [False, False]])>"
      ]
     },
     "execution_count": 18,
     "metadata": {},
     "output_type": "execute_result"
    }
   ],
   "source": [
    "# top_k 应用\n",
    "# 预测值\n",
    "prob = tf.constant([\n",
    "    [0.1, 0.2, 0.7],\n",
    "    [0.2, 0.7, 0.1]\n",
    "])\n",
    "# 目标序号\n",
    "target = tf.constant([2, 0])\n",
    "# 求出 top_3 的序号\n",
    "k_b = tf.math.top_k(prob, 3).indices\n",
    "print(k_b)\n",
    "# 转置\n",
    "k_b = tf.transpose(k_b)\n",
    "print(k_b)\n",
    "target = tf.broadcast_to(target, [3, 2])\n",
    "print(target)\n",
    "# 如果取 top_1 准确率为 50% 一行中有一个 True 1/2\n",
    "# 如果取 top_2 准确率为 100%  \n",
    "tf.equal(k_b, target)"
   ]
  },
  {
   "cell_type": "code",
   "execution_count": 20,
   "metadata": {},
   "outputs": [],
   "source": [
    "# 封装上面准确率计算为方法\n",
    "def accuracy(output, target, topk=(1,)):\n",
    "    maxk = max(topk)\n",
    "    batch_size = target.shape[0]\n",
    "    pred = tf.math.top_k(output, maxk).indices\n",
    "    pred = tf.transpose(pred, perm=[1, 0])\n",
    "    target_ = tf.broadcast_to(target, pred.shape)\n",
    "    correct = tf.equal(pred, target_)\n",
    "    res = []\n",
    "    for k in topk:\n",
    "        correct_k = tf.cast(tf.reshape(correct[:k], [-1]), dtype=tf.float32)\n",
    "        correct_k = tf.reduce_sum(correct_k)\n",
    "        acc = float(correct_k / batch_size)\n",
    "        res.append(acc)\n",
    "    return res"
   ]
  },
  {
   "cell_type": "code",
   "execution_count": 23,
   "metadata": {},
   "outputs": [
    {
     "name": "stdout",
     "output_type": "stream",
     "text": [
      "prob: [[0.01120587 0.2967659  0.20603049 0.32164657 0.09519781 0.06915337]\n",
      " [0.1548031  0.12356821 0.131262   0.20788772 0.07376944 0.30870956]\n",
      " [0.08258385 0.18781161 0.17159073 0.29987347 0.19314817 0.06499222]\n",
      " [0.53826743 0.0111547  0.2390883  0.07201643 0.08478447 0.05468873]\n",
      " [0.07192136 0.14299741 0.04516456 0.33761546 0.32801872 0.07428244]\n",
      " [0.06449894 0.24116758 0.0443985  0.07498345 0.01188659 0.56306493]\n",
      " [0.18668595 0.18669048 0.17453559 0.04429607 0.25670323 0.1510887 ]\n",
      " [0.32413477 0.13630806 0.03555444 0.23615053 0.20881893 0.05903333]\n",
      " [0.16397741 0.08915227 0.12183238 0.09122517 0.31899983 0.21481296]\n",
      " [0.07793785 0.04870022 0.2456908  0.22384383 0.18956949 0.21425785]]\n",
      "pred: [3 5 3 0 3 5 4 0 4 2]\n",
      "label: [3 5 0 2 4 4 3 1 3 3]\n",
      "top-1-6 acc: [0.20000000298023224, 0.5, 0.5, 0.6000000238418579, 0.800000011920929, 1.0]\n"
     ]
    }
   ],
   "source": [
    "output = tf.random.normal([10, 6])\n",
    "output = tf.math.softmax(output, axis=1)\n",
    "target = tf.random.uniform([10], maxval=6, dtype=tf.int32)\n",
    "print('prob:', output.numpy())\n",
    "pred = tf.argmax(output, axis=1)\n",
    "print('pred:', pred.numpy())\n",
    "print('label:', target.numpy())\n",
    "acc = accuracy(output, target, topk=(1, 2, 3, 4, 5, 6))\n",
    "print('top-1-6 acc:', acc)"
   ]
  },
  {
   "cell_type": "code",
   "execution_count": null,
   "metadata": {},
   "outputs": [],
   "source": []
  }
 ],
 "metadata": {
  "kernelspec": {
   "display_name": "Python 3",
   "language": "python",
   "name": "python3"
  },
  "language_info": {
   "codemirror_mode": {
    "name": "ipython",
    "version": 3
   },
   "file_extension": ".py",
   "mimetype": "text/x-python",
   "name": "python",
   "nbconvert_exporter": "python",
   "pygments_lexer": "ipython3",
   "version": "3.7.7"
  }
 },
 "nbformat": 4,
 "nbformat_minor": 4
}
