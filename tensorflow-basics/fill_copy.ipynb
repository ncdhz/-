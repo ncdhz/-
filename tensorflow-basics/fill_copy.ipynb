{
 "cells": [
  {
   "cell_type": "code",
   "execution_count": 1,
   "metadata": {},
   "outputs": [],
   "source": [
    "import tensorflow as tf"
   ]
  },
  {
   "cell_type": "code",
   "execution_count": 4,
   "metadata": {},
   "outputs": [
    {
     "name": "stdout",
     "output_type": "stream",
     "text": [
      "tf.Tensor(\n",
      "[[0 1 2]\n",
      " [3 4 5]\n",
      " [6 7 8]], shape=(3, 3), dtype=int32)\n",
      "tf.Tensor(\n",
      "[[0 1 2]\n",
      " [3 4 5]\n",
      " [6 7 8]], shape=(3, 3), dtype=int32)\n",
      "tf.Tensor(\n",
      "[[0 0 0]\n",
      " [0 1 2]\n",
      " [3 4 5]\n",
      " [6 7 8]], shape=(4, 3), dtype=int32)\n",
      "tf.Tensor(\n",
      "[[0 0 0]\n",
      " [0 1 2]\n",
      " [3 4 5]\n",
      " [6 7 8]\n",
      " [0 0 0]], shape=(5, 3), dtype=int32)\n",
      "tf.Tensor(\n",
      "[[0 0 0 0]\n",
      " [0 0 1 2]\n",
      " [0 3 4 5]\n",
      " [0 6 7 8]\n",
      " [0 0 0 0]], shape=(5, 4), dtype=int32)\n",
      "tf.Tensor(\n",
      "[[0 0 0 0 0]\n",
      " [0 0 1 2 0]\n",
      " [0 3 4 5 0]\n",
      " [0 6 7 8 0]\n",
      " [0 0 0 0 0]], shape=(5, 5), dtype=int32)\n"
     ]
    }
   ],
   "source": [
    "# pad\n",
    "a = tf.reshape(tf.range(9), [3, 3])\n",
    "print(a)\n",
    "print(tf.pad(a, [\n",
    "    [0, 0], # 行\n",
    "    [0, 0]  # 列\n",
    "]))\n",
    "print(tf.pad(a, [\n",
    "    [1, 0],\n",
    "    [0, 0]\n",
    "]))\n",
    "print(tf.pad(a, [\n",
    "    [1, 1],\n",
    "    [0, 0]\n",
    "]))\n",
    "print(tf.pad(a, [\n",
    "    [1, 1],\n",
    "    [1, 0]\n",
    "]))\n",
    "print(tf.pad(a, [\n",
    "    [1, 1],\n",
    "    [1, 1]\n",
    "]))"
   ]
  },
  {
   "cell_type": "code",
   "execution_count": 6,
   "metadata": {},
   "outputs": [
    {
     "name": "stdout",
     "output_type": "stream",
     "text": [
      "(4, 28, 28, 3)\n",
      "(4, 30, 30, 3)\n"
     ]
    }
   ],
   "source": [
    "# 假设有四张 28*28 三通道的照片\n",
    "a = tf.random.normal([4, 28, 28, 3])\n",
    "print(a.shape)\n",
    "# 给照片加上下左右都加一\n",
    "b = tf.pad(a, [\n",
    "    [0, 0],\n",
    "    [1, 1],\n",
    "    [1, 1],\n",
    "    [0, 0]\n",
    "])\n",
    "print(b.shape)"
   ]
  },
  {
   "cell_type": "code",
   "execution_count": 10,
   "metadata": {},
   "outputs": [
    {
     "name": "stdout",
     "output_type": "stream",
     "text": [
      "tf.Tensor(\n",
      "[[0 1 2 0 1 2]\n",
      " [3 4 5 3 4 5]\n",
      " [6 7 8 6 7 8]], shape=(3, 6), dtype=int32)\n",
      "tf.Tensor(\n",
      "[[0 1 2]\n",
      " [3 4 5]\n",
      " [6 7 8]\n",
      " [0 1 2]\n",
      " [3 4 5]\n",
      " [6 7 8]], shape=(6, 3), dtype=int32)\n",
      "tf.Tensor(\n",
      "[[0 1 2 0 1 2]\n",
      " [3 4 5 3 4 5]\n",
      " [6 7 8 6 7 8]\n",
      " [0 1 2 0 1 2]\n",
      " [3 4 5 3 4 5]\n",
      " [6 7 8 6 7 8]], shape=(6, 6), dtype=int32)\n"
     ]
    }
   ],
   "source": [
    "# tile 复制\n",
    "a = tf.reshape(tf.range(9), [3, 3])\n",
    "print(tf.tile(a, [1, 2])) # 行维度不变 列维度复制两次\n",
    "print(tf.tile(a, [2, 1])) \n",
    "print(tf.tile(a, [2, 2]))"
   ]
  },
  {
   "cell_type": "code",
   "execution_count": 16,
   "metadata": {},
   "outputs": [
    {
     "name": "stdout",
     "output_type": "stream",
     "text": [
      "(1, 3, 3)\n",
      "tf.Tensor(\n",
      "[[[0 1 2]\n",
      "  [3 4 5]\n",
      "  [6 7 8]]\n",
      "\n",
      " [[0 1 2]\n",
      "  [3 4 5]\n",
      "  [6 7 8]]], shape=(2, 3, 3), dtype=int32)\n",
      "tf.Tensor(\n",
      "[[[0 1 2]\n",
      "  [3 4 5]\n",
      "  [6 7 8]]\n",
      "\n",
      " [[0 1 2]\n",
      "  [3 4 5]\n",
      "  [6 7 8]]], shape=(2, 3, 3), dtype=int32)\n"
     ]
    }
   ],
   "source": [
    "# tile Vs broadcast_to\n",
    "# 添加一个维度\n",
    "aa = tf.expand_dims(a, axis=0)\n",
    "print(aa.shape)\n",
    "print(tf.tile(aa, [2, 1, 1])) \n",
    "print(tf.broadcast_to(aa, [2, 3, 3])) \n",
    "# 结果没有区别 但是broadcast_to是在运行时才完成，所有性能更加高"
   ]
  },
  {
   "cell_type": "code",
   "execution_count": null,
   "metadata": {},
   "outputs": [],
   "source": []
  }
 ],
 "metadata": {
  "kernelspec": {
   "display_name": "Python 3",
   "language": "python",
   "name": "python3"
  },
  "language_info": {
   "codemirror_mode": {
    "name": "ipython",
    "version": 3
   },
   "file_extension": ".py",
   "mimetype": "text/x-python",
   "name": "python",
   "nbconvert_exporter": "python",
   "pygments_lexer": "ipython3",
   "version": "3.7.7"
  }
 },
 "nbformat": 4,
 "nbformat_minor": 4
}
