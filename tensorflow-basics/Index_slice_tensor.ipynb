{
 "cells": [
  {
   "cell_type": "code",
   "execution_count": 2,
   "metadata": {},
   "outputs": [],
   "source": [
    "import tensorflow as tf"
   ]
  },
  {
   "cell_type": "code",
   "execution_count": 3,
   "metadata": {},
   "outputs": [
    {
     "data": {
      "text/plain": [
       "<tf.Tensor: shape=(5, 3), dtype=float32, numpy=\n",
       "array([[1., 1., 1.],\n",
       "       [1., 1., 1.],\n",
       "       [1., 1., 1.],\n",
       "       [1., 1., 1.],\n",
       "       [1., 1., 1.]], dtype=float32)>"
      ]
     },
     "execution_count": 3,
     "metadata": {},
     "output_type": "execute_result"
    }
   ],
   "source": [
    "a = tf.ones([1, 5, 5, 3]) # 四维\n",
    "a[0][0]"
   ]
  },
  {
   "cell_type": "code",
   "execution_count": 4,
   "metadata": {},
   "outputs": [
    {
     "data": {
      "text/plain": [
       "<tf.Tensor: shape=(3,), dtype=float32, numpy=array([1., 1., 1.], dtype=float32)>"
      ]
     },
     "execution_count": 4,
     "metadata": {},
     "output_type": "execute_result"
    }
   ],
   "source": [
    "a[0][0][0]"
   ]
  },
  {
   "cell_type": "code",
   "execution_count": 5,
   "metadata": {},
   "outputs": [
    {
     "data": {
      "text/plain": [
       "<tf.Tensor: shape=(), dtype=float32, numpy=1.0>"
      ]
     },
     "execution_count": 5,
     "metadata": {},
     "output_type": "execute_result"
    }
   ],
   "source": [
    "a[0][0][0][2]"
   ]
  },
  {
   "cell_type": "code",
   "execution_count": 6,
   "metadata": {},
   "outputs": [
    {
     "data": {
      "text/plain": [
       "<tf.Tensor: shape=(3,), dtype=float32, numpy=array([1., 1., 1.], dtype=float32)>"
      ]
     },
     "execution_count": 6,
     "metadata": {},
     "output_type": "execute_result"
    }
   ],
   "source": [
    "a[0, 0, 0] # 尽量用这种方式取值"
   ]
  },
  {
   "cell_type": "code",
   "execution_count": 7,
   "metadata": {},
   "outputs": [
    {
     "name": "stdout",
     "output_type": "stream",
     "text": [
      "(28, 28, 3)\n",
      "(28, 3)\n",
      "(3,)\n",
      "()\n"
     ]
    }
   ],
   "source": [
    "a = tf.random.normal([4, 28, 28, 3])\n",
    "print(a[1].shape)\n",
    "print(a[1, 2].shape)\n",
    "print(a[1, 2, 3].shape)\n",
    "print(a[1, 2, 3, 2].shape)"
   ]
  },
  {
   "cell_type": "code",
   "execution_count": 8,
   "metadata": {},
   "outputs": [
    {
     "data": {
      "text/plain": [
       "<tf.Tensor: shape=(10,), dtype=int32, numpy=array([0, 1, 2, 3, 4, 5, 6, 7, 8, 9], dtype=int32)>"
      ]
     },
     "execution_count": 8,
     "metadata": {},
     "output_type": "execute_result"
    }
   ],
   "source": [
    "a = tf.range(10)\n",
    "a"
   ]
  },
  {
   "cell_type": "code",
   "execution_count": 9,
   "metadata": {},
   "outputs": [
    {
     "data": {
      "text/plain": [
       "<tf.Tensor: shape=(1,), dtype=int32, numpy=array([9], dtype=int32)>"
      ]
     },
     "execution_count": 9,
     "metadata": {},
     "output_type": "execute_result"
    }
   ],
   "source": [
    "a[-1:] # 负数从后往前数 以下所有方式返回的都是向量"
   ]
  },
  {
   "cell_type": "code",
   "execution_count": 10,
   "metadata": {},
   "outputs": [
    {
     "data": {
      "text/plain": [
       "<tf.Tensor: shape=(2,), dtype=int32, numpy=array([8, 9], dtype=int32)>"
      ]
     },
     "execution_count": 10,
     "metadata": {},
     "output_type": "execute_result"
    }
   ],
   "source": [
    "a[-2:] # 从 倒数第二 到 最后"
   ]
  },
  {
   "cell_type": "code",
   "execution_count": 11,
   "metadata": {},
   "outputs": [
    {
     "data": {
      "text/plain": [
       "<tf.Tensor: shape=(2,), dtype=int32, numpy=array([0, 1], dtype=int32)>"
      ]
     },
     "execution_count": 11,
     "metadata": {},
     "output_type": "execute_result"
    }
   ],
   "source": [
    "a[: 2] # 从 0 到 2（这里就是第2个元素也就是 1）"
   ]
  },
  {
   "cell_type": "code",
   "execution_count": 12,
   "metadata": {},
   "outputs": [
    {
     "data": {
      "text/plain": [
       "<tf.Tensor: shape=(9,), dtype=int32, numpy=array([0, 1, 2, 3, 4, 5, 6, 7, 8], dtype=int32)>"
      ]
     },
     "execution_count": 12,
     "metadata": {},
     "output_type": "execute_result"
    }
   ],
   "source": [
    "a[: -1] # 从 0 到 -1（这里就是第9个元素也就是 8）"
   ]
  },
  {
   "cell_type": "code",
   "execution_count": 16,
   "metadata": {},
   "outputs": [
    {
     "name": "stdout",
     "output_type": "stream",
     "text": [
      "(4, 28, 28, 3)\n",
      "(28, 28, 3)\n",
      "(28, 28, 3)\n",
      "(28, 3)\n",
      "(4, 28, 28)\n",
      "(4, 28, 28)\n",
      "(4, 28, 3)\n"
     ]
    }
   ],
   "source": [
    "a = tf.random.normal([4, 28, 28, 3])\n",
    "print(a.shape)\n",
    "print(a[0].shape)\n",
    "print(a[0, :, :, :].shape)\n",
    "print(a[0, 1, :, :].shape)\n",
    "print(a[:, :, :, 0].shape)\n",
    "print(a[:, :, :, 2].shape)\n",
    "print(a[:, 0, :, :].shape)"
   ]
  },
  {
   "cell_type": "code",
   "execution_count": 19,
   "metadata": {},
   "outputs": [
    {
     "name": "stdout",
     "output_type": "stream",
     "text": [
      "(4, 14, 14, 3)\n",
      "(4, 14, 14, 3)\n"
     ]
    }
   ],
   "source": [
    "# indexing by :: 隔着采样\n",
    "# start:end:step\n",
    "print(a[:, 0:28:2, 0:28:2, :].shape)\n",
    "print(a[:, ::2, ::2, :].shape)"
   ]
  },
  {
   "cell_type": "code",
   "execution_count": 20,
   "metadata": {},
   "outputs": [
    {
     "name": "stdout",
     "output_type": "stream",
     "text": [
      "tf.Tensor([0 1 2 3], shape=(4,), dtype=int32)\n",
      "tf.Tensor([3 2 1 0], shape=(4,), dtype=int32)\n",
      "tf.Tensor([3 1], shape=(2,), dtype=int32)\n",
      "tf.Tensor([2 0], shape=(2,), dtype=int32)\n"
     ]
    }
   ],
   "source": [
    "# ::-1 倒着采样\n",
    "a = tf.range(4)\n",
    "print(a)\n",
    "print(a[::-1])\n",
    "print(a[::-2])\n",
    "print(a[2::-2])"
   ]
  },
  {
   "cell_type": "code",
   "execution_count": 23,
   "metadata": {},
   "outputs": [
    {
     "name": "stdout",
     "output_type": "stream",
     "text": [
      "(28, 28, 3)\n",
      "(28, 28)\n"
     ]
    }
   ],
   "source": [
    "# ...\n",
    "a = tf.random.normal([4, 28, 28, 3])\n",
    "print(a[0, ...].shape)\n",
    "print(a[0, ..., 2].shape)"
   ]
  },
  {
   "cell_type": "code",
   "execution_count": 28,
   "metadata": {},
   "outputs": [
    {
     "name": "stdout",
     "output_type": "stream",
     "text": [
      "(2, 35, 8)\n",
      "(4, 35, 8)\n",
      "(4, 4, 8)\n"
     ]
    }
   ],
   "source": [
    "# selective indexing\n",
    "a = tf.random.normal([4, 35, 8])\n",
    "print(tf.gather(a, axis=0, indices=[2, 3]).shape) # 这条语句的含义是，操作数据源 a 操作的维度是 0 取0维度的 2，3（下标）\n",
    "print(tf.gather(a, axis=0, indices=[0, 2, 3, 1]).shape)\n",
    "print(tf.gather(a, axis=1, indices=[10, 2, 18, 9]).shape)"
   ]
  },
  {
   "cell_type": "code",
   "execution_count": 32,
   "metadata": {},
   "outputs": [
    {
     "name": "stdout",
     "output_type": "stream",
     "text": [
      "(35, 8)\n",
      "(8,)\n",
      "()\n",
      "(1,)\n",
      "(3, 8)\n",
      "(1, 3)\n"
     ]
    }
   ],
   "source": [
    "a = tf.random.normal([4, 35, 8])\n",
    "print(tf.gather_nd(a, [0]).shape) # 可以理解成 a[0]\n",
    "print(tf.gather_nd(a, [0, 1]).shape) # a[0, 1]\n",
    "print(tf.gather_nd(a, [0, 1, 2]).shape) # a[0, 1, 2]\n",
    "print(tf.gather_nd(a, [[0, 1, 2]]).shape) # [a[0, 1, 2]]\n",
    "print(tf.gather_nd(a, [[0, 1], [0, 3], [0, 5]]).shape) # [a[0, 1], a[0, 3], a[0, 5]]\n",
    "print(tf.gather_nd(a, [[[0, 1, 1], [0, 1, 2], [3, 4, 2]]]).shape)"
   ]
  },
  {
   "cell_type": "code",
   "execution_count": 36,
   "metadata": {},
   "outputs": [
    {
     "name": "stdout",
     "output_type": "stream",
     "text": [
      "(2, 28, 28, 3)\n",
      "(4, 28, 28, 1)\n",
      "tf.Tensor(\n",
      "[[1. 1. 1. 1.]\n",
      " [1. 1. 1. 1.]\n",
      " [1. 1. 1. 1.]], shape=(3, 4), dtype=float32)\n"
     ]
    }
   ],
   "source": [
    "# tf.boolean_mask\n",
    "a = tf.random.normal([4, 28, 28, 3])\n",
    "print(tf.boolean_mask(a, mask=[True, True, False, False]).shape) # 可以理解成第一维也就是4中取前两组\n",
    "print(tf.boolean_mask(a, mask=[False, True, False], axis=3).shape) # 可以理解成第四维中取中间那组\n",
    "a = tf.ones([2, 3, 4])\n",
    "print(tf.boolean_mask(a, [[True, False, False], [True, True, False]])) # [2, 3] 中 取 [0, 0] [1, 0] [1, 1] "
   ]
  },
  {
   "cell_type": "code",
   "execution_count": null,
   "metadata": {},
   "outputs": [],
   "source": []
  }
 ],
 "metadata": {
  "kernelspec": {
   "display_name": "Python 3",
   "language": "python",
   "name": "python3"
  },
  "language_info": {
   "codemirror_mode": {
    "name": "ipython",
    "version": 3
   },
   "file_extension": ".py",
   "mimetype": "text/x-python",
   "name": "python",
   "nbconvert_exporter": "python",
   "pygments_lexer": "ipython3",
   "version": "3.7.7"
  }
 },
 "nbformat": 4,
 "nbformat_minor": 4
}
