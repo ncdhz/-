{
 "cells": [
  {
   "cell_type": "code",
   "execution_count": 1,
   "metadata": {},
   "outputs": [],
   "source": [
    "import tensorflow as tf"
   ]
  },
  {
   "cell_type": "code",
   "execution_count": 2,
   "metadata": {},
   "outputs": [
    {
     "name": "stdout",
     "output_type": "stream",
     "text": [
      "(6, 35, 8)\n"
     ]
    }
   ],
   "source": [
    "# 合并\n",
    "a = tf.ones([4, 35, 8])\n",
    "b = tf.ones([2, 35, 8])\n",
    "c = tf.concat([a, b], axis=0) # axis 维度\n",
    "print(c.shape)"
   ]
  },
  {
   "cell_type": "code",
   "execution_count": 3,
   "metadata": {},
   "outputs": [
    {
     "name": "stdout",
     "output_type": "stream",
     "text": [
      "(4, 38, 8)\n"
     ]
    }
   ],
   "source": [
    "a = tf.ones([4, 35, 8])\n",
    "b = tf.ones([4, 3, 8])\n",
    "c = tf.concat([a, b], axis=1)\n",
    "print(c.shape)"
   ]
  },
  {
   "cell_type": "code",
   "execution_count": 4,
   "metadata": {},
   "outputs": [],
   "source": [
    "#stack: create new dim\n",
    "a = tf.ones([4, 35, 8])\n",
    "b = tf.ones([4, 35, 8])"
   ]
  },
  {
   "cell_type": "code",
   "execution_count": 5,
   "metadata": {},
   "outputs": [
    {
     "name": "stdout",
     "output_type": "stream",
     "text": [
      "(4, 35, 8)\n",
      "(4, 35, 8)\n"
     ]
    }
   ],
   "source": [
    "print(a.shape)\n",
    "print(b.shape)"
   ]
  },
  {
   "cell_type": "code",
   "execution_count": 12,
   "metadata": {},
   "outputs": [
    {
     "data": {
      "text/plain": [
       "TensorShape([4, 35, 16])"
      ]
     },
     "execution_count": 12,
     "metadata": {},
     "output_type": "execute_result"
    }
   ],
   "source": [
    "# 只需要非指定维度相等\n",
    "tf.concat([a, b], axis=-1).shape"
   ]
  },
  {
   "cell_type": "code",
   "execution_count": 13,
   "metadata": {},
   "outputs": [
    {
     "name": "stdout",
     "output_type": "stream",
     "text": [
      "(2, 4, 35, 8)\n",
      "(4, 35, 8, 2)\n"
     ]
    }
   ],
   "source": [
    "# stack 要求所有的维度相等\n",
    "print(tf.stack([a, b], axis=0).shape)\n",
    "print(tf.stack([a, b], axis=3).shape)"
   ]
  },
  {
   "cell_type": "code",
   "execution_count": 22,
   "metadata": {},
   "outputs": [
    {
     "name": "stdout",
     "output_type": "stream",
     "text": [
      "(4, 35, 8) (4, 35, 8)\n",
      "8 (2, 4, 35)\n"
     ]
    }
   ],
   "source": [
    "# unstack 拆分\n",
    "a = tf.ones([4, 35, 8])\n",
    "b = tf.ones([4, 35, 8])\n",
    "c = tf.stack([a, b])\n",
    "aa, bb = tf.unstack(c)\n",
    "print(aa.shape, bb.shape)\n",
    "ccc = tf.unstack(c, axis=3)\n",
    "print(len(ccc), ccc[5].shape)"
   ]
  },
  {
   "cell_type": "code",
   "execution_count": 28,
   "metadata": {},
   "outputs": [
    {
     "name": "stdout",
     "output_type": "stream",
     "text": [
      "2 (2, 4, 35, 4)\n"
     ]
    }
   ],
   "source": [
    "# split\n",
    "# 切分成两块\n",
    "res = tf.split(c, axis=3, num_or_size_splits=2)\n",
    "print(len(res), res[0].shape)"
   ]
  },
  {
   "cell_type": "code",
   "execution_count": 29,
   "metadata": {},
   "outputs": [
    {
     "name": "stdout",
     "output_type": "stream",
     "text": [
      "3 (2, 4, 35, 2) (2, 4, 35, 4)\n"
     ]
    }
   ],
   "source": [
    "# 切分成三块 2, 2, 4\n",
    "res = tf.split(c, axis=3, num_or_size_splits=[2, 2, 4])\n",
    "print(len(res), res[0].shape, res[2].shape)"
   ]
  },
  {
   "cell_type": "code",
   "execution_count": null,
   "metadata": {},
   "outputs": [],
   "source": []
  }
 ],
 "metadata": {
  "kernelspec": {
   "display_name": "Python 3",
   "language": "python",
   "name": "python3"
  },
  "language_info": {
   "codemirror_mode": {
    "name": "ipython",
    "version": 3
   },
   "file_extension": ".py",
   "mimetype": "text/x-python",
   "name": "python",
   "nbconvert_exporter": "python",
   "pygments_lexer": "ipython3",
   "version": "3.7.7"
  }
 },
 "nbformat": 4,
 "nbformat_minor": 4
}
