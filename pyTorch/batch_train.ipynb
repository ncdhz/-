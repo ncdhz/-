{
 "cells": [
  {
   "cell_type": "code",
   "execution_count": 1,
   "metadata": {},
   "outputs": [],
   "source": [
    "import torch\n",
    "import torch.utils.data as Data"
   ]
  },
  {
   "cell_type": "code",
   "execution_count": 2,
   "metadata": {},
   "outputs": [],
   "source": [
    "BATCH_SIZE = 5"
   ]
  },
  {
   "cell_type": "code",
   "execution_count": 3,
   "metadata": {},
   "outputs": [],
   "source": [
    "x = torch.linspace(1, 10, 10)       # this is x data (torch tensor)\n",
    "y = torch.linspace(10, 1, 10)       # this is y data (torch tensor)"
   ]
  },
  {
   "cell_type": "code",
   "execution_count": 4,
   "metadata": {},
   "outputs": [],
   "source": [
    "torch_dataset = Data.TensorDataset(x, y)\n",
    "loader = Data.DataLoader(\n",
    "    dataset=torch_dataset,      # torch TensorDataset format\n",
    "    batch_size=BATCH_SIZE,      # mini batch size\n",
    "    shuffle=True,               # random shuffle for training\n",
    "    num_workers=2,              # subprocesses for loading data\n",
    ")"
   ]
  },
  {
   "cell_type": "code",
   "execution_count": 5,
   "metadata": {},
   "outputs": [],
   "source": [
    "def show_batch():\n",
    "    # train entire dataset 3 times\n",
    "    for epoch in range(3):\n",
    "        # for each training step\n",
    "        for step, (batch_x, batch_y) in enumerate(loader): \n",
    "            # train your data...\n",
    "            print('Epoch: ', epoch, '| Step: ', step, '| batch x: ',\n",
    "                  batch_x.numpy(), '| batch y: ', batch_y.numpy())"
   ]
  },
  {
   "cell_type": "code",
   "execution_count": 6,
   "metadata": {},
   "outputs": [
    {
     "name": "stdout",
     "output_type": "stream",
     "text": [
      "Epoch:  0 | Step:  0 | batch x:  [10.  6.  1.  3.  9.] | batch y:  [ 1.  5. 10.  8.  2.]\n",
      "Epoch:  0 | Step:  1 | batch x:  [5. 2. 4. 7. 8.] | batch y:  [6. 9. 7. 4. 3.]\n",
      "Epoch:  1 | Step:  0 | batch x:  [7. 8. 9. 3. 4.] | batch y:  [4. 3. 2. 8. 7.]\n",
      "Epoch:  1 | Step:  1 | batch x:  [ 5.  2.  6. 10.  1.] | batch y:  [ 6.  9.  5.  1. 10.]\n",
      "Epoch:  2 | Step:  0 | batch x:  [ 7.  6. 10.  1.  2.] | batch y:  [ 4.  5.  1. 10.  9.]\n",
      "Epoch:  2 | Step:  1 | batch x:  [4. 9. 8. 3. 5.] | batch y:  [7. 2. 3. 8. 6.]\n"
     ]
    }
   ],
   "source": [
    "show_batch()"
   ]
  },
  {
   "cell_type": "code",
   "execution_count": null,
   "metadata": {},
   "outputs": [],
   "source": []
  }
 ],
 "metadata": {
  "kernelspec": {
   "display_name": "Python 3",
   "language": "python",
   "name": "python3"
  },
  "language_info": {
   "codemirror_mode": {
    "name": "ipython",
    "version": 3
   },
   "file_extension": ".py",
   "mimetype": "text/x-python",
   "name": "python",
   "nbconvert_exporter": "python",
   "pygments_lexer": "ipython3",
   "version": "3.7.7"
  }
 },
 "nbformat": 4,
 "nbformat_minor": 4
}
