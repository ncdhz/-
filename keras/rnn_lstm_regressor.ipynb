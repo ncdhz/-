{
 "metadata": {
  "language_info": {
   "codemirror_mode": {
    "name": "ipython",
    "version": 3
   },
   "file_extension": ".py",
   "mimetype": "text/x-python",
   "name": "python",
   "nbconvert_exporter": "python",
   "pygments_lexer": "ipython3",
   "version": "3.7.7-final"
  },
  "orig_nbformat": 2,
  "kernelspec": {
   "name": "python3",
   "display_name": "Python 3"
  }
 },
 "nbformat": 4,
 "nbformat_minor": 2,
 "cells": [
  {
   "cell_type": "code",
   "execution_count": 1,
   "metadata": {},
   "outputs": [],
   "source": [
    "import numpy as np\n",
    "import matplotlib.pyplot as plt\n",
    "from keras.models import Sequential\n",
    "from keras.layers import LSTM, TimeDistributed, Dense\n",
    "from keras.optimizers import Adam"
   ]
  },
  {
   "cell_type": "code",
   "execution_count": 2,
   "metadata": {},
   "outputs": [],
   "source": [
    "BATCH_START = 0\n",
    "TIME_STEPS = 20\n",
    "BATCH_SIZE = 50\n",
    "INPUT_SIZE = 1\n",
    "OUTPUT_SIZE = 1\n",
    "CELL_SIZE = 20\n",
    "LR = 0.006"
   ]
  },
  {
   "cell_type": "code",
   "execution_count": 3,
   "metadata": {},
   "outputs": [],
   "source": [
    "def get_batch():\n",
    "    global BATCH_START, TIME_STEPS\n",
    "    # xs shape (50batch, 20steps)\n",
    "    xs = np.arange(BATCH_START, BATCH_START+TIME_STEPS*BATCH_SIZE).reshape((BATCH_SIZE, TIME_STEPS)) / (10*np.pi)\n",
    "    seq = np.sin(xs)\n",
    "    res = np.cos(xs)\n",
    "    BATCH_START += TIME_STEPS\n",
    "    # plt.plot(xs[0, :], res[0, :], 'r', xs[0, :], seq[0, :], 'b--')\n",
    "    # plt.show()\n",
    "    return [seq[:, :, np.newaxis], res[:, :, np.newaxis], xs]"
   ]
  },
  {
   "cell_type": "code",
   "execution_count": 4,
   "metadata": {},
   "outputs": [],
   "source": [
    "model = Sequential()"
   ]
  },
  {
   "cell_type": "code",
   "execution_count": 6,
   "metadata": {},
   "outputs": [],
   "source": [
    "# build a LSTM RNN\n",
    "model.add(LSTM(\n",
    "    batch_input_shape=(BATCH_SIZE, TIME_STEPS, INPUT_SIZE),       # Or: input_dim=INPUT_SIZE, input_length=TIME_STEPS,\n",
    "    units=CELL_SIZE,\n",
    "    return_sequences=True,      # True: output at all steps. False: output as last step.\n",
    "    stateful=True,              # True: the final state of batch1 is feed into the initial state of batch2\n",
    "))"
   ]
  },
  {
   "cell_type": "code",
   "execution_count": 7,
   "metadata": {},
   "outputs": [],
   "source": [
    "model.add(TimeDistributed(Dense(OUTPUT_SIZE)))\n",
    "adam = Adam(LR)\n",
    "model.compile(optimizer=adam,\n",
    "              loss='mse',)"
   ]
  },
  {
   "cell_type": "code",
   "execution_count": 9,
   "metadata": {},
   "outputs": [
    {
     "output_type": "stream",
     "name": "stdout",
     "text": [
      "Training ------------\n",
      "train cost:  0.020091462880373\n",
      "train cost:  0.010577109642326832\n",
      "train cost:  0.016500378027558327\n",
      "train cost:  0.013988864608108997\n",
      "train cost:  0.018441082909703255\n",
      "train cost:  0.23031948506832123\n",
      "train cost:  0.09463343769311905\n",
      "train cost:  0.0534491203725338\n",
      "train cost:  0.018554838374257088\n",
      "train cost:  0.013495927676558495\n",
      "train cost:  0.009030397050082684\n",
      "train cost:  0.0064380355179309845\n",
      "train cost:  0.0062509560957551\n",
      "train cost:  0.005647024139761925\n",
      "train cost:  0.00545890349894762\n",
      "train cost:  0.005677942186594009\n",
      "train cost:  0.005907763261348009\n",
      "train cost:  0.0055135441944003105\n",
      "train cost:  0.004866965115070343\n",
      "train cost:  0.004469575826078653\n",
      "train cost:  0.004939043894410133\n",
      "train cost:  0.005408833734691143\n",
      "train cost:  0.004978531040251255\n",
      "train cost:  0.004309598356485367\n",
      "train cost:  0.004567148629575968\n",
      "train cost:  0.005168736446648836\n",
      "train cost:  0.005300989840179682\n",
      "train cost:  0.008605596609413624\n",
      "train cost:  0.030731389299035072\n",
      "train cost:  0.02261938899755478\n",
      "train cost:  0.05510221794247627\n",
      "train cost:  0.027344703674316406\n",
      "train cost:  0.029070762917399406\n",
      "train cost:  0.027561409398913383\n",
      "train cost:  0.028764838352799416\n",
      "train cost:  0.03221477195620537\n",
      "train cost:  0.012064282782375813\n",
      "train cost:  0.00888447742909193\n",
      "train cost:  0.01523494254797697\n",
      "train cost:  0.012774217873811722\n",
      "train cost:  0.01661072112619877\n",
      "train cost:  0.032155122607946396\n",
      "train cost:  0.015111909247934818\n",
      "train cost:  0.011511491611599922\n",
      "train cost:  0.008103059604763985\n",
      "train cost:  0.0247410349547863\n",
      "train cost:  0.03529631718993187\n",
      "train cost:  0.019865967333316803\n",
      "train cost:  0.03985843062400818\n",
      "train cost:  0.020314926281571388\n",
      "train cost:  0.019270455464720726\n"
     ]
    }
   ],
   "source": [
    "print('Training ------------')\n",
    "for step in range(501):\n",
    "    # data shape = (batch_num, steps, inputs/outputs)\n",
    "    X_batch, Y_batch, xs = get_batch()\n",
    "    cost = model.train_on_batch(X_batch, Y_batch)\n",
    "    pred = model.predict(X_batch, BATCH_SIZE)\n",
    "    # plt.plot(xs[0, :], Y_batch[0].flatten(), 'r', xs[0, :], pred.flatten()[:TIME_STEPS], 'b--')\n",
    "    # plt.ylim((-1.2, 1.2))\n",
    "    # plt.draw()\n",
    "    # plt.pause(0.1)\n",
    "    if step % 10 == 0:\n",
    "        print('train cost: ', cost)"
   ]
  },
  {
   "cell_type": "code",
   "execution_count": null,
   "metadata": {},
   "outputs": [],
   "source": []
  }
 ]
}