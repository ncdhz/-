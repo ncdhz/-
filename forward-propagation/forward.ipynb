{
 "cells": [
  {
   "cell_type": "code",
   "execution_count": 62,
   "metadata": {},
   "outputs": [],
   "source": [
    "import tensorflow as tf\n",
    "from tensorflow.keras import datasets"
   ]
  },
  {
   "cell_type": "code",
   "execution_count": 63,
   "metadata": {},
   "outputs": [
    {
     "name": "stdout",
     "output_type": "stream",
     "text": [
      "(60000, 28, 28)\n",
      "(60000,)\n"
     ]
    }
   ],
   "source": [
    "# 加载 mnist 数据集\n",
    "(x, y), _ = datasets.mnist.load_data()\n",
    "# 有 60000 张图片，每张图片都是 28 * 28 的\n",
    "print(x.shape)\n",
    "# 图片的值\n",
    "print(y.shape)"
   ]
  },
  {
   "cell_type": "code",
   "execution_count": 64,
   "metadata": {},
   "outputs": [],
   "source": [
    "# 转换 x 为 tensor 数据 格式为 float32 \n",
    "# 因为色彩值是 0-255 除以 255 就是 [0-255]=>[0-1.] 便于处理 \n",
    "x = tf.convert_to_tensor(x, dtype=tf.float32) / 255.\n",
    "y = tf.convert_to_tensor(y, dtype=tf.int32)"
   ]
  },
  {
   "cell_type": "code",
   "execution_count": 65,
   "metadata": {},
   "outputs": [],
   "source": [
    "train_db = tf.data.Dataset.from_tensor_slices((x, y)).batch(125)"
   ]
  },
  {
   "cell_type": "code",
   "execution_count": 66,
   "metadata": {},
   "outputs": [],
   "source": [
    "# 图片的维度是 28*28 平着放也就是 784\n",
    "# 然后对 b 张图片进行降维处理  先变成 256 然后变成 128 最后变成 10 （因为结果 0 - 9 也就是十个数）\n",
    "# [b, 784] => [b, 256] => [b, 128] => [b, 10]\n",
    "# tensorflow 会记录 Variable 可以直接求导\n",
    "# 截断的产生正态分布的随机数，即随机数与均值的差值若大于两倍的标准差，则重新生成\n",
    "# stddev 标准差\n",
    "w1 = tf.Variable(tf.random.truncated_normal([784, 256], stddev=0.1))\n",
    "b1 = tf.Variable(tf.zeros([256]))\n",
    "w2 = tf.Variable(tf.random.truncated_normal([256, 128], stddev=0.1))\n",
    "b2 = tf.Variable(tf.zeros([128]))\n",
    "w3 = tf.Variable(tf.random.truncated_normal([128, 10], stddev=0.1))\n",
    "b3 = tf.Variable(tf.zeros([10]))"
   ]
  },
  {
   "cell_type": "code",
   "execution_count": 67,
   "metadata": {},
   "outputs": [
    {
     "name": "stdout",
     "output_type": "stream",
     "text": [
      "0 0 loss:  0.30867183208465576\n",
      "0 100 loss:  0.20889152586460114\n",
      "0 200 loss:  0.18648980557918549\n",
      "0 300 loss:  0.176169753074646\n",
      "0 400 loss:  0.16235509514808655\n",
      "1 0 loss:  0.15100857615470886\n",
      "1 100 loss:  0.15689125657081604\n",
      "1 200 loss:  0.1524558663368225\n",
      "1 300 loss:  0.15121577680110931\n",
      "1 400 loss:  0.1408216506242752\n",
      "2 0 loss:  0.12968459725379944\n",
      "2 100 loss:  0.13755886256694794\n",
      "2 200 loss:  0.13341549038887024\n",
      "2 300 loss:  0.13654020428657532\n",
      "2 400 loss:  0.12728823721408844\n",
      "3 0 loss:  0.11574900895357132\n",
      "3 100 loss:  0.12468554824590683\n",
      "3 200 loss:  0.12056072056293488\n",
      "3 300 loss:  0.1262807548046112\n",
      "3 400 loss:  0.11767496168613434\n",
      "4 0 loss:  0.1060013696551323\n",
      "4 100 loss:  0.11528414487838745\n",
      "4 200 loss:  0.11120573431253433\n",
      "4 300 loss:  0.11860466003417969\n",
      "4 400 loss:  0.11047586798667908\n",
      "5 0 loss:  0.09886004030704498\n",
      "5 100 loss:  0.10813496261835098\n",
      "5 200 loss:  0.10391082614660263\n",
      "5 300 loss:  0.11250125616788864\n",
      "5 400 loss:  0.10468688607215881\n",
      "6 0 loss:  0.09326536953449249\n",
      "6 100 loss:  0.10248614847660065\n",
      "6 200 loss:  0.09807919710874557\n",
      "6 300 loss:  0.10749770700931549\n",
      "6 400 loss:  0.09998957812786102\n",
      "7 0 loss:  0.08871163427829742\n",
      "7 100 loss:  0.09786324203014374\n",
      "7 200 loss:  0.09326774626970291\n",
      "7 300 loss:  0.10327716171741486\n",
      "7 400 loss:  0.0960562601685524\n",
      "8 0 loss:  0.08491583913564682\n",
      "8 100 loss:  0.09392944723367691\n",
      "8 200 loss:  0.08927122503519058\n",
      "8 300 loss:  0.09971439838409424\n",
      "8 400 loss:  0.09271231293678284\n",
      "9 0 loss:  0.08166778832674026\n",
      "9 100 loss:  0.09058947116136551\n",
      "9 200 loss:  0.08587446063756943\n",
      "9 300 loss:  0.09663911163806915\n",
      "9 400 loss:  0.0897933766245842\n"
     ]
    }
   ],
   "source": [
    "lr = 1e-3\n",
    "# 循环10次下面的步骤\n",
    "for epoch in range(10):\n",
    "    # 刚才对数据进行了切分\n",
    "    # 下面的 for 就是循环切分的数据\n",
    "    for step, (x, y) in enumerate(train_db):\n",
    "        # [b, 28, 28] => [b, 28*28]\n",
    "        # 把三维数据变成二维 也就是把图片数据变成一行\n",
    "        x = tf.reshape(x, [-1, 28*28])\n",
    "        # 里面的所有 Variable 数据都会被tensorflow记录\n",
    "        # 可以自动求导\n",
    "        with tf.GradientTape() as tape:\n",
    "            # [b, 784]@[784, 256] + [256] => [b, 256] + [256] => [b, 256] + [b, 256]\n",
    "            h1 = x @ w1 + b1\n",
    "            h1 = tf.nn.relu(h1)\n",
    "            # [b, 256] => [b, 128]\n",
    "            h2 = h1 @ w2 + b2\n",
    "            h2 = tf.nn.relu(h2)\n",
    "            # [b, 128] => [b, 10]\n",
    "            out = h2 @ w3 + b3\n",
    "            # y: [b] => [b, 10]\n",
    "            y_onehot = tf.one_hot(y, depth=10)\n",
    "            # mse = mean(sum(y-out)^2)\n",
    "            # 求平方和\n",
    "            loss = tf.square(y_onehot - out)\n",
    "            loss = tf.reduce_mean(loss)\n",
    "        grads = tape.gradient(loss, [w1, b1, w2, b2, w3, b3])\n",
    "        # w1 = w1 - lr * w1_grad\n",
    "        # 用 w1 - lr * grads[0] 并赋值给 w1\n",
    "        w1.assign_sub(lr * grads[0])\n",
    "        b1.assign_sub(lr * grads[1])\n",
    "        w2.assign_sub(lr * grads[2])\n",
    "        b2.assign_sub(lr * grads[3])\n",
    "        w3.assign_sub(lr * grads[4])\n",
    "        b3.assign_sub(lr * grads[5])\n",
    "        # 迭代 100 次后输出一次结果\n",
    "        if step % 100 == 0:\n",
    "            print(epoch, step, 'loss: ', float(loss))"
   ]
  },
  {
   "cell_type": "code",
   "execution_count": null,
   "metadata": {},
   "outputs": [],
   "source": []
  }
 ],
 "metadata": {
  "kernelspec": {
   "display_name": "Python 3",
   "language": "python",
   "name": "python3"
  },
  "language_info": {
   "codemirror_mode": {
    "name": "ipython",
    "version": 3
   },
   "file_extension": ".py",
   "mimetype": "text/x-python",
   "name": "python",
   "nbconvert_exporter": "python",
   "pygments_lexer": "ipython3",
   "version": "3.7.7"
  }
 },
 "nbformat": 4,
 "nbformat_minor": 4
}
