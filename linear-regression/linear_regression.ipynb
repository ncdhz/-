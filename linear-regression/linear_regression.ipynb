{
 "cells": [
  {
   "cell_type": "code",
   "execution_count": 16,
   "metadata": {},
   "outputs": [],
   "source": [
    "import numpy as np"
   ]
  },
  {
   "cell_type": "markdown",
   "metadata": {},
   "source": [
    "$$loss=\\sum_{i}{(w*x_i+b-y_i)^2}$$"
   ]
  },
  {
   "cell_type": "code",
   "execution_count": 17,
   "metadata": {},
   "outputs": [],
   "source": [
    "def compute_error_for_line_given_points(b, w, points):\n",
    "    totalError = 0\n",
    "    for i in range(0, len(points)):\n",
    "        x = points[i, 0]\n",
    "        y = points[i, 1]\n",
    "        # ((w * x + b) - y) ** 2 就是上面公式单个损失值\n",
    "        totalError += ((w * x + b) - y) ** 2\n",
    "    return totalError / float(len(points))"
   ]
  },
  {
   "cell_type": "markdown",
   "metadata": {},
   "source": [
    "$$\n",
    "w^{'}=w-lr*\\frac{\\partial{loss}}{\\partial{w}} \\\\\n",
    "\\frac{\\partial{loss}}{\\partial{w}}=2*\\sum_{i}{(w*x_i+b-y_i)*x_i} \\\\\n",
    "b^{'}=b-lr*\\frac{\\partial{loss}}{\\partial{b}} \\\\\n",
    "\\frac{\\partial{loss}}{\\partial{b}}=2*\\sum_{i}{(w*x_i+b-y_i)}\n",
    "$$"
   ]
  },
  {
   "cell_type": "code",
   "execution_count": 18,
   "metadata": {},
   "outputs": [],
   "source": [
    "def step_gradient(b_current, w_current, points, learningRate):\n",
    "    b_gradient = 0\n",
    "    w_gradient = 0\n",
    "    N = float(len(points))\n",
    "    for i in range(0, len(points)):\n",
    "        x = points[i, 0]\n",
    "        y = points[i, 1]\n",
    "        b_gradient += (2/N) * ((w_current * x + b_current) - y)\n",
    "        w_gradient += (2/N) * x * ((w_current * x + b_current) - y)\n",
    "    new_b = b_current - (learningRate * b_gradient)\n",
    "    new_w = w_current - (learningRate * w_gradient)\n",
    "    return [new_b, new_w]"
   ]
  },
  {
   "cell_type": "code",
   "execution_count": 22,
   "metadata": {},
   "outputs": [],
   "source": [
    "# 给线性回归加上动画\n",
    "import matplotlib.pyplot as plt\n",
    "import matplotlib.animation as animation\n",
    "%matplotlib osx\n",
    "class DataAnimation:\n",
    "    def __init__(self, b, w, points):\n",
    "        self.fig = plt.figure()\n",
    "        plt.scatter(points[:, 0], points[:, 1])\n",
    "        self.x = np.linspace(1, 100, 10)\n",
    "        self.y = w * self.x + b\n",
    "        self.ln, = plt.plot(self.x, self.y)\n",
    "    def animation_update(self, frame):\n",
    "        self.y = frame[1] * self.x + frame[0]\n",
    "        self.ln.set_data(self.x, self.y)\n",
    "        return self.ln,\n",
    "    def add_animation(self, fs):\n",
    "        ani = animation.FuncAnimation(self.fig, self.animation_update, frames=fs, interval=10, blit=True)\n",
    "        ani.save(\"a.gif\")\n",
    "    def show(self):\n",
    "        plt.show()\n",
    "    \n",
    "def gradient_descent_runner(points, starting_b, starting_w, learning_rate, num_iterations):\n",
    "    b = starting_b\n",
    "    w = starting_w\n",
    "    frames = []\n",
    "    ba = DataAnimation(b, w, points)\n",
    "    for i in range(num_iterations):\n",
    "        b, w = step_gradient(b, w, np.array(points), learning_rate)\n",
    "        frames.append([b, w])\n",
    "    ba.add_animation(frames)\n",
    "    ba.show()\n",
    "    return [b, w]"
   ]
  },
  {
   "cell_type": "code",
   "execution_count": 23,
   "metadata": {},
   "outputs": [],
   "source": [
    "def run():\n",
    "    points = np.genfromtxt(\"data.csv\", delimiter=\",\")\n",
    "    learning_rate = 0.0001\n",
    "    initial_b = 0\n",
    "    initial_w = 0\n",
    "    num_iterations = 1000\n",
    "    print(\"b = {0}, w = {1}, error = {2}\"\n",
    "          .format(initial_b, initial_w, compute_error_for_line_given_points(initial_b, initial_w, points)))\n",
    "    print(\"Running....\")\n",
    "    [b, w] = gradient_descent_runner(points, initial_b, initial_w, learning_rate, num_iterations)\n",
    "    print(\"b = {0}, w = {1}, error = {2}\"\n",
    "          .format(b, w, compute_error_for_line_given_points(b, w, points)))"
   ]
  },
  {
   "cell_type": "code",
   "execution_count": 24,
   "metadata": {},
   "outputs": [
    {
     "name": "stdout",
     "output_type": "stream",
     "text": [
      "b = 0, w = 0, error = 5565.107834483211\n",
      "Running....\n",
      "b = 0.08893651993741346, w = 1.4777440851894448, error = 112.61481011613473\n"
     ]
    }
   ],
   "source": [
    "if __name__ == '__main__':\n",
    "    run()"
   ]
  },
  {
   "cell_type": "code",
   "execution_count": null,
   "metadata": {},
   "outputs": [],
   "source": []
  }
 ],
 "metadata": {
  "kernelspec": {
   "display_name": "Python 3",
   "language": "python",
   "name": "python3"
  },
  "language_info": {
   "codemirror_mode": {
    "name": "ipython",
    "version": 3
   },
   "file_extension": ".py",
   "mimetype": "text/x-python",
   "name": "python",
   "nbconvert_exporter": "python",
   "pygments_lexer": "ipython3",
   "version": "3.8.3"
  }
 },
 "nbformat": 4,
 "nbformat_minor": 4
}
