{
 "cells": [
  {
   "cell_type": "code",
   "execution_count": 15,
   "metadata": {},
   "outputs": [],
   "source": [
    "import numpy as np"
   ]
  },
  {
   "cell_type": "markdown",
   "metadata": {},
   "source": [
    "$$loss=\\sum_{i}{(w*x_i+b-y_i)^2}$$"
   ]
  },
  {
   "cell_type": "code",
   "execution_count": 16,
   "metadata": {},
   "outputs": [],
   "source": [
    "def compute_error_for_line_given_points(b, w, points):\n",
    "    totalError = 0\n",
    "    for i in range(0, len(points)):\n",
    "        x = points[i, 0]\n",
    "        y = points[i, 1]\n",
    "        # ((w * x + b) - y) ** 2 就是上面公式单个损失值\n",
    "        totalError += ((w * x + b) - y) ** 2\n",
    "    return totalError / float(len(points))"
   ]
  },
  {
   "cell_type": "markdown",
   "metadata": {},
   "source": [
    "$$\n",
    "w^{'}=w-lr*\\frac{\\partial{loss}}{\\partial{w}} \\\\\n",
    "\\frac{\\partial{loss}}{\\partial{w}}=2*\\sum_{i}{(w*x_i+b-y_i)*x_i} \\\\\n",
    "b^{'}=b-lr*\\frac{\\partial{loss}}{\\partial{b}} \\\\\n",
    "\\frac{\\partial{loss}}{\\partial{b}}=2*\\sum_{i}{(w*x_i+b-y_i)}\n",
    "$$"
   ]
  },
  {
   "cell_type": "code",
   "execution_count": 17,
   "metadata": {},
   "outputs": [],
   "source": [
    "def step_gradient(b_current, w_current, points, learning_rate):\n",
    "    b_gradient = 0\n",
    "    w_gradient = 0\n",
    "    N = float(len(points))\n",
    "    for i in range(0, len(points)):\n",
    "        x = points[i, 0]\n",
    "        y = points[i, 1]\n",
    "        b_gradient += (2/N) * ((w_current * x + b_current) - y)\n",
    "        w_gradient += (2/N) * x * ((w_current * x + b_current) - y)\n",
    "    new_w = w_current - (w_gradient * learning_rate)\n",
    "    new_b = b_current - (b_gradient * learning_rate)\n",
    "    return [new_b, new_w]"
   ]
  },
  {
   "cell_type": "code",
   "execution_count": 18,
   "metadata": {},
   "outputs": [],
   "source": [
    "def gradient_descent_runner(points, starting_b, starting_w, learning_rate, num_iterations):\n",
    "    b = starting_b\n",
    "    w = starting_w\n",
    "    for i in range(num_iterations):\n",
    "        b, w = step_gradient(b, w, points, learning_rate)\n",
    "    return [b, w]"
   ]
  },
  {
   "cell_type": "code",
   "execution_count": 19,
   "metadata": {},
   "outputs": [],
   "source": [
    "def run():\n",
    "    points = np.genfromtxt(\"data.csv\", delimiter=\",\")\n",
    "    learning_rate = 0.001\n",
    "    initial_b = 0\n",
    "    initial_w = 0\n",
    "    num_iterations = 1000\n",
    "    print(\"b = {0}, w = {1}, error = {2}\"\n",
    "          .format(initial_b, initial_w, compute_error_for_line_given_points(initial_b, initial_w, points)))\n",
    "    print(\"Running....\")\n",
    "    [b, w] = gradient_descent_runner(points, initial_b, initial_w, learning_rate, num_iterations)\n",
    "    print(\"b = {0}, w = {1}, error = {2}\"\n",
    "          .format(b, w, compute_error_for_line_given_points(b, w, points)))"
   ]
  },
  {
   "cell_type": "code",
   "execution_count": 20,
   "metadata": {},
   "outputs": [
    {
     "name": "stdout",
     "output_type": "stream",
     "text": [
      "b = 0, w = 0, error = 5565.107834483211\n",
      "Running....\n",
      "b = nan, w = nan, error = nan\n"
     ]
    },
    {
     "name": "stderr",
     "output_type": "stream",
     "text": [
      "<ipython-input-17-a50a156c6866>:9: RuntimeWarning: overflow encountered in double_scalars\n",
      "  w_gradient += (2/N) * x * ((w_current * x + b_current) - y)\n",
      "<ipython-input-17-a50a156c6866>:10: RuntimeWarning: invalid value encountered in double_scalars\n",
      "  new_w = w_current - w_gradient * learning_rate\n"
     ]
    }
   ],
   "source": [
    "if __name__ == '__main__':\n",
    "    run()"
   ]
  },
  {
   "cell_type": "code",
   "execution_count": null,
   "metadata": {},
   "outputs": [],
   "source": []
  }
 ],
 "metadata": {
  "kernelspec": {
   "display_name": "Python 3",
   "language": "python",
   "name": "python3"
  },
  "language_info": {
   "codemirror_mode": {
    "name": "ipython",
    "version": 3
   },
   "file_extension": ".py",
   "mimetype": "text/x-python",
   "name": "python",
   "nbconvert_exporter": "python",
   "pygments_lexer": "ipython3",
   "version": "3.8.3"
  }
 },
 "nbformat": 4,
 "nbformat_minor": 4
}
